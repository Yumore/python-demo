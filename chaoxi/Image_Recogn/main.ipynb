{
 "cells": [
  {
   "cell_type": "code",
   "execution_count": 1,
   "metadata": {
    "pycharm": {}
   },
   "outputs": [],
   "source": [
    "%reload_ext autoreload\n",
    "%autoreload 2\n",
    "\n",
    "import matplotlib.pyplot as plt\n",
    "import torch\n",
    "from torch import nn\n",
    "from torch.utils.data import DataLoader\n",
    "from torchvision import models\n",
    "from torchvision import transforms as tfs\n",
    "from torchvision.datasets import ImageFolder\n",
    "%matplotlib inline\n",
    "\n",
    "import os\n",
    "\n",
    "os.environ[\"KMP_DUPLICATE_LIB_OK\"] = \"TRUE\""
   ]
  },
  {
   "cell_type": "code",
   "execution_count": 2,
   "metadata": {
    "pycharm": {}
   },
   "outputs": [],
   "source": [
    "# 是否使用GPU\n",
    "use_gpu = False"
   ]
  },
  {
   "cell_type": "code",
   "execution_count": 3,
   "metadata": {
    "pycharm": {}
   },
   "outputs": [],
   "source": [
    "# 数据增强\n",
    "train_transform = tfs.Compose([\n",
    "    # 训练集的数据预处理\n",
    "    tfs.Resize([224, 224]),\n",
    "    tfs.RandomHorizontalFlip(),\n",
    "    tfs.RandomCrop(128),\n",
    "    tfs.ToTensor(),\n",
    "    tfs.Normalize([0.5, 0.5, 0.5], [0.5, 0.5, 0.5])\n",
    "])\n",
    "\n",
    "test_transform = tfs.Compose([\n",
    "    tfs.Resize([224, 224]),\n",
    "    #     tfs.RandomCrop(128),\n",
    "    tfs.ToTensor(),\n",
    "    tfs.Normalize([0.5, 0.5, 0.5], [0.5, 0.5, 0.5])\n",
    "])"
   ]
  },
  {
   "cell_type": "code",
   "execution_count": 4,
   "metadata": {
    "pycharm": {}
   },
   "outputs": [],
   "source": [
    "# 每一个batch的数据集数目\n",
    "batch_size = 10"
   ]
  },
  {
   "cell_type": "code",
   "execution_count": 5,
   "metadata": {
    "pycharm": {}
   },
   "outputs": [],
   "source": [
    "# 构建训练集和验证集\n",
    "train_set = ImageFolder('./dataset1/train', train_transform)\n",
    "train_data = DataLoader(train_set, batch_size, shuffle=True, num_workers=0)\n",
    "\n",
    "valid_set = ImageFolder('./dataset1/valid', test_transform)\n",
    "valid_data = DataLoader(valid_set, 2 * batch_size, shuffle=False, num_workers=0)"
   ]
  },
  {
   "cell_type": "code",
   "execution_count": 6,
   "metadata": {
    "pycharm": {}
   },
   "outputs": [
    {
     "data": {
      "text/plain": [
       "{'blank': 0, 'filled': 1, 'other': 2}"
      ]
     },
     "execution_count": 6,
     "metadata": {},
     "output_type": "execute_result"
    }
   ],
   "source": [
    "train_set.class_to_idx"
   ]
  },
  {
   "cell_type": "code",
   "execution_count": 7,
   "metadata": {
    "pycharm": {}
   },
   "outputs": [
    {
     "data": {
      "text/plain": [
       "14"
      ]
     },
     "execution_count": 7,
     "metadata": {},
     "output_type": "execute_result"
    }
   ],
   "source": [
    "len(valid_data)"
   ]
  },
  {
   "cell_type": "code",
   "execution_count": 8,
   "metadata": {
    "pycharm": {}
   },
   "outputs": [
    {
     "name": "stdout",
     "output_type": "stream",
     "text": [
      "Dataset is ready!\n"
     ]
    }
   ],
   "source": [
    "try:\n",
    "    if iter(train_data).next()[0].shape[0] == batch_size and \\\n",
    "            iter(valid_data).next()[0].shape[0] == 2 * batch_size:\n",
    "        print('Dataset is ready!')\n",
    "    else:\n",
    "        print('Not success, maybe the batch size is wrong')\n",
    "except:\n",
    "    print('not success, image transform is wrong!')"
   ]
  },
  {
   "cell_type": "code",
   "execution_count": 9,
   "metadata": {
    "pycharm": {}
   },
   "outputs": [
    {
     "name": "stdout",
     "output_type": "stream",
     "text": [
      "10 3\n",
      "Model is ready!\n"
     ]
    }
   ],
   "source": [
    "# 构建模型\n",
    "def get_model():\n",
    "    model = models.resnet50(pretrained=True)\n",
    "    model.fc = nn.Linear(2048, 3)\n",
    "    return model\n",
    "\n",
    "\n",
    "try:\n",
    "    model = get_model()\n",
    "    with torch.no_grad():\n",
    "        scorce = model(iter(train_data).next()[0])\n",
    "        print(scorce.shape[0], scorce.shape[1])\n",
    "    if scorce.shape[0] == batch_size and scorce.shape[1] == 3:\n",
    "        print('Model is ready!')\n",
    "    else:\n",
    "        print('Model is failed!')\n",
    "except:\n",
    "    print('model is wrong')\n",
    "\n",
    "if use_gpu:\n",
    "    model = model.cuda()"
   ]
  },
  {
   "cell_type": "code",
   "execution_count": 10,
   "metadata": {
    "pycharm": {}
   },
   "outputs": [],
   "source": [
    "# 构建loss函数和优化器\n",
    "criterion = nn.CrossEntropyLoss()\n",
    "optimizer = torch.optim.Adam(model.parameters(), lr=1e-4)\n",
    "\n",
    "# 训练的epoches数目\n",
    "max_epoch = 20"
   ]
  },
  {
   "cell_type": "code",
   "execution_count": 11,
   "metadata": {
    "pycharm": {}
   },
   "outputs": [],
   "source": [
    "# 训练\n",
    "def train(model, train_data, valid_data, max_epoch, criterion, optimizer):\n",
    "    freq_print = int(len(train_data) / 3)\n",
    "\n",
    "    metric_log = dict()\n",
    "    metric_log['train_loss'] = list()\n",
    "    metric_log['train_acc'] = list()\n",
    "    if valid_data is not None:\n",
    "        metric_log['valid_loss'] = list()\n",
    "        metric_log['valid_acc'] = list()\n",
    "\n",
    "    for e in range(max_epoch):\n",
    "        model.train()\n",
    "        running_loss = 0\n",
    "        running_acc = 0\n",
    "\n",
    "        for i, data in enumerate(train_data, 1):\n",
    "            img, label = data\n",
    "            if use_gpu:\n",
    "                img = img.cuda()\n",
    "                label = label.cuda()\n",
    "\n",
    "            # forward前向传播\n",
    "            out = model(img)\n",
    "\n",
    "            # 计算误差\n",
    "            loss = criterion(out, label.long())\n",
    "\n",
    "            # 反向传播，更新参数\n",
    "            optimizer.zero_grad()\n",
    "            loss.backward()\n",
    "            optimizer.step()\n",
    "\n",
    "            # 计算准确率\n",
    "            _, pred = out.max(1)\n",
    "            num_correct = (pred == label.long()).sum().item()\n",
    "            acc = num_correct / img.shape[0]\n",
    "\n",
    "            running_loss += loss.item()\n",
    "            running_acc += acc\n",
    "\n",
    "            if i % freq_print == 0:\n",
    "                print('[{}]/[{}], train loss: {:.3f}, train acc: {:.3f}' \\\n",
    "                      .format(i, len(train_data), running_loss / i, running_acc / i))\n",
    "\n",
    "        metric_log['train_loss'].append(running_loss / len(train_data))\n",
    "        metric_log['train_acc'].append(running_acc / len(train_data))\n",
    "\n",
    "        if valid_data is not None:\n",
    "            model.eval()\n",
    "            running_loss = 0\n",
    "            running_acc = 0\n",
    "            for data in valid_data:\n",
    "                img, label = data\n",
    "                if use_gpu:\n",
    "                    img = img.cuda()\n",
    "                    label = label.cuda()\n",
    "\n",
    "                # forward前向传播\n",
    "                out = model(img)\n",
    "\n",
    "                # 计算误差\n",
    "                loss = criterion(out, label.long())\n",
    "\n",
    "                # 计算准确度\n",
    "                _, pred = out.max(1)\n",
    "                num_correct = (pred == label.long()).sum().item()\n",
    "                acc = num_correct / img.shape[0]\n",
    "\n",
    "                running_loss += loss.item()\n",
    "                running_acc += acc\n",
    "\n",
    "            metric_log['valid_loss'].append(running_loss / len(valid_data))\n",
    "            metric_log['valid_acc'].append(running_acc / len(valid_data))\n",
    "            print_str = 'epoch: {}, train loss: {:.3f}, train acc: {:.3f}, \\\n",
    "            valid loss: {:.3f}, valid accuracy: {:.3f}'.format(\n",
    "                e + 1, metric_log['train_loss'][-1], metric_log['train_acc'][-1],\n",
    "                metric_log['valid_loss'][-1], metric_log['valid_acc'][-1])\n",
    "        else:\n",
    "            print_str = 'epoch: {}, train loss: {:.3f}, train acc: {:.3f}'.format(\n",
    "                e + 1,\n",
    "                metric_log['train_loss'][-1],\n",
    "                metric_log['train_acc'][-1])\n",
    "        print(print_str)\n",
    "\n",
    "    # 可视化\n",
    "    nrows = 1\n",
    "    ncols = 2\n",
    "    figsize = (10, 5)\n",
    "    _, figs = plt.subplots(nrows, ncols, figsize=figsize)\n",
    "    if valid_data is not None:\n",
    "        figs[0].plot(metric_log['train_loss'], label='train loss')\n",
    "        figs[0].plot(metric_log['valid_loss'], label='valid loss')\n",
    "        figs[0].axes.set_xlabel('loss')\n",
    "        figs[0].legend(loc='best')\n",
    "        figs[1].plot(metric_log['train_acc'], label='train acc')\n",
    "        figs[1].plot(metric_log['valid_acc'], label='valid acc')\n",
    "        figs[1].axes.set_xlabel('acc')\n",
    "        figs[1].legend(loc='best')\n",
    "    else:\n",
    "        figs[0].plot(metric_log['train_loss'], label='train loss')\n",
    "        figs[0].axes.set_xlabel('loss')\n",
    "        figs[0].legend(loc='best')\n",
    "        figs[1].plot(metric_log['train_acc'], label='train acc')\n",
    "        figs[1].axes.set_xlabel('acc')\n",
    "        figs[1].legend(loc='best')"
   ]
  },
  {
   "cell_type": "code",
   "execution_count": 12,
   "metadata": {
    "pycharm": {},
    "scrolled": true
   },
   "outputs": [
    {
     "name": "stdout",
     "output_type": "stream",
     "text": [
      "[9]/[28], train loss: 0.849, train acc: 0.578\n",
      "[18]/[28], train loss: 0.643, train acc: 0.694\n",
      "[27]/[28], train loss: 0.574, train acc: 0.741\n",
      "epoch: 1, train loss: 0.598, train acc: 0.714,             valid loss: 0.262, valid accuracy: 0.857\n",
      "[9]/[28], train loss: 0.230, train acc: 0.933\n",
      "[18]/[28], train loss: 0.227, train acc: 0.928\n",
      "[27]/[28], train loss: 0.256, train acc: 0.907\n",
      "epoch: 2, train loss: 0.272, train acc: 0.911,             valid loss: 0.264, valid accuracy: 0.879\n",
      "[9]/[28], train loss: 0.227, train acc: 0.911\n",
      "[18]/[28], train loss: 0.319, train acc: 0.872\n",
      "[27]/[28], train loss: 0.277, train acc: 0.893\n",
      "epoch: 3, train loss: 0.313, train acc: 0.861,             valid loss: 0.198, valid accuracy: 0.971\n",
      "[9]/[28], train loss: 0.173, train acc: 0.922\n",
      "[18]/[28], train loss: 0.225, train acc: 0.900\n",
      "[27]/[28], train loss: 0.209, train acc: 0.907\n",
      "epoch: 4, train loss: 0.230, train acc: 0.911,             valid loss: 0.078, valid accuracy: 0.982\n",
      "[9]/[28], train loss: 0.288, train acc: 0.878\n",
      "[18]/[28], train loss: 0.262, train acc: 0.906\n",
      "[27]/[28], train loss: 0.228, train acc: 0.915\n",
      "epoch: 5, train loss: 0.264, train acc: 0.882,             valid loss: 0.161, valid accuracy: 0.932\n",
      "[9]/[28], train loss: 0.068, train acc: 1.000\n",
      "[18]/[28], train loss: 0.116, train acc: 0.978\n",
      "[27]/[28], train loss: 0.155, train acc: 0.952\n",
      "epoch: 6, train loss: 0.175, train acc: 0.954,             valid loss: 0.080, valid accuracy: 1.000\n",
      "[9]/[28], train loss: 0.070, train acc: 0.967\n",
      "[18]/[28], train loss: 0.174, train acc: 0.922\n",
      "[27]/[28], train loss: 0.175, train acc: 0.919\n",
      "epoch: 7, train loss: 0.225, train acc: 0.886,             valid loss: 0.098, valid accuracy: 0.971\n",
      "[9]/[28], train loss: 0.244, train acc: 0.944\n",
      "[18]/[28], train loss: 0.199, train acc: 0.956\n",
      "[27]/[28], train loss: 0.154, train acc: 0.970\n",
      "epoch: 8, train loss: 0.172, train acc: 0.971,             valid loss: 0.181, valid accuracy: 0.914\n",
      "[9]/[28], train loss: 0.125, train acc: 0.956\n",
      "[18]/[28], train loss: 0.139, train acc: 0.961\n",
      "[27]/[28], train loss: 0.149, train acc: 0.952\n",
      "epoch: 9, train loss: 0.186, train acc: 0.918,             valid loss: 0.086, valid accuracy: 0.971\n",
      "[9]/[28], train loss: 0.072, train acc: 0.978\n",
      "[18]/[28], train loss: 0.097, train acc: 0.972\n",
      "[27]/[28], train loss: 0.154, train acc: 0.937\n",
      "epoch: 10, train loss: 0.182, train acc: 0.904,             valid loss: 0.214, valid accuracy: 0.904\n",
      "[9]/[28], train loss: 0.284, train acc: 0.922\n",
      "[18]/[28], train loss: 0.198, train acc: 0.939\n",
      "[27]/[28], train loss: 0.180, train acc: 0.948\n",
      "epoch: 11, train loss: 0.213, train acc: 0.914,             valid loss: 0.033, valid accuracy: 0.986\n",
      "[9]/[28], train loss: 0.246, train acc: 0.967\n",
      "[18]/[28], train loss: 0.169, train acc: 0.972\n",
      "[27]/[28], train loss: 0.181, train acc: 0.963\n",
      "epoch: 12, train loss: 0.193, train acc: 0.964,             valid loss: 0.067, valid accuracy: 0.996\n",
      "[9]/[28], train loss: 0.251, train acc: 0.911\n",
      "[18]/[28], train loss: 0.177, train acc: 0.939\n",
      "[27]/[28], train loss: 0.143, train acc: 0.952\n",
      "epoch: 13, train loss: 0.245, train acc: 0.918,             valid loss: 0.053, valid accuracy: 1.000\n",
      "[9]/[28], train loss: 0.044, train acc: 0.989\n",
      "[18]/[28], train loss: 0.033, train acc: 0.989\n",
      "[27]/[28], train loss: 0.044, train acc: 0.985\n",
      "epoch: 14, train loss: 0.096, train acc: 0.950,             valid loss: 0.040, valid accuracy: 0.996\n",
      "[9]/[28], train loss: 0.014, train acc: 1.000\n",
      "[18]/[28], train loss: 0.117, train acc: 0.972\n",
      "[27]/[28], train loss: 0.159, train acc: 0.959\n",
      "epoch: 15, train loss: 0.179, train acc: 0.961,             valid loss: 0.044, valid accuracy: 0.993\n",
      "[9]/[28], train loss: 0.253, train acc: 0.889\n",
      "[18]/[28], train loss: 0.166, train acc: 0.928\n",
      "[27]/[28], train loss: 0.138, train acc: 0.944\n",
      "epoch: 16, train loss: 0.147, train acc: 0.946,             valid loss: 0.041, valid accuracy: 1.000\n",
      "[9]/[28], train loss: 0.083, train acc: 0.967\n",
      "[18]/[28], train loss: 0.079, train acc: 0.972\n",
      "[27]/[28], train loss: 0.080, train acc: 0.978\n",
      "epoch: 17, train loss: 0.128, train acc: 0.943,             valid loss: 0.026, valid accuracy: 1.000\n",
      "[9]/[28], train loss: 0.068, train acc: 0.978\n",
      "[18]/[28], train loss: 0.060, train acc: 0.983\n",
      "[27]/[28], train loss: 0.059, train acc: 0.978\n",
      "epoch: 18, train loss: 0.078, train acc: 0.979,             valid loss: 0.023, valid accuracy: 1.000\n",
      "[9]/[28], train loss: 0.020, train acc: 1.000\n",
      "[18]/[28], train loss: 0.027, train acc: 0.994\n",
      "[27]/[28], train loss: 0.022, train acc: 0.996\n",
      "epoch: 19, train loss: 0.059, train acc: 0.961,             valid loss: 0.024, valid accuracy: 1.000\n",
      "[9]/[28], train loss: 0.021, train acc: 1.000\n",
      "[18]/[28], train loss: 0.015, train acc: 1.000\n",
      "[27]/[28], train loss: 0.024, train acc: 0.996\n",
      "epoch: 20, train loss: 0.056, train acc: 0.961,             valid loss: 0.011, valid accuracy: 1.000\n"
     ]
    },
    {
     "data": {
      "image/png": "[encoded data removed]",
      "text/plain": [
       "<Figure size 720x360 with 2 Axes>"
      ]
     },
     "metadata": {
      "needs_background": "light"
     },
     "output_type": "display_data"
    }
   ],
   "source": [
    "# 用作调参\n",
    "train(model, train_data, valid_data, max_epoch, criterion, optimizer)"
   ]
  },
  {
   "cell_type": "code",
   "execution_count": 13,
   "metadata": {
    "pycharm": {}
   },
   "outputs": [],
   "source": [
    "# 保存模型\n",
    "torch.save(model.state_dict(), './model/save_model2.pth')"
   ]
  },
  {
   "cell_type": "code",
   "execution_count": null,
   "metadata": {
    "pycharm": {}
   },
   "outputs": [],
   "source": [
    "\n"
   ]
  }
 ],
 "metadata": {
  "kernelspec": {
   "display_name": "Python 3",
   "language": "python",
   "name": "python3"
  },
  "language_info": {
   "codemirror_mode": {
    "name": "ipython",
    "version": 3
   },
   "file_extension": ".py",
   "mimetype": "text/x-python",
   "name": "python",
   "nbconvert_exporter": "python",
   "pygments_lexer": "ipython3",
   "version": "3.7.6"
  },
  "toc": {
   "base_numbering": 1,
   "nav_menu": {},
   "number_sections": true,
   "sideBar": true,
   "skip_h1_title": false,
   "title_cell": "Table of Contents",
   "title_sidebar": "Contents",
   "toc_cell": false,
   "toc_position": {},
   "toc_section_display": true,
   "toc_window_display": false
  }
 },
 "nbformat": 4,
 "nbformat_minor": 2
}
